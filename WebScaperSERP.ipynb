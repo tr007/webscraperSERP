{
  "nbformat": 4,
  "nbformat_minor": 0,
  "metadata": {
    "colab": {
      "provenance": []
    },
    "kernelspec": {
      "name": "python3",
      "display_name": "Python 3"
    },
    "language_info": {
      "name": "python"
    }
  },
  "cells": [
    {
      "cell_type": "code",
      "source": [
        "import requests\n",
        "from bs4 import BeautifulSoup\n",
        "import json"
      ],
      "metadata": {
        "colab": {
          "base_uri": "https://localhost:8080/"
        },
        "id": "_tNFU0qXESuT",
        "outputId": "c120b622-2d34-423e-9656-c51cbb0295c4"
      },
      "execution_count": 3,
      "outputs": [
        {
          "output_type": "stream",
          "name": "stderr",
          "text": [
            "<ipython-input-3-26f69779de54>:12: DeprecationWarning: The 'text' argument to find()-type methods is deprecated. Use 'string' instead.\n",
            "  results.extend(soup.find_all(\"a\", href=True, text=\"youtube.com\"))\n"
          ]
        }
      ]
    },
    {
      "cell_type": "code",
      "source": [
        "query = \"site:youtube.com openinapp.co\""
      ],
      "metadata": {
        "id": "TUPLNob6e_LT"
      },
      "execution_count": null,
      "outputs": []
    },
    {
      "cell_type": "code",
      "source": [
        "def scrape_google_results(query):\n",
        "  url_list = []\n",
        "  for i in range(1, 10001):\n",
        "    url = f\"https://www.google.com/search?q={query}&start={i}\"\n",
        "    response = requests.get(url, allow_redirects=True)\n",
        "    soup = BeautifulSoup(response.content, \"html.parser\")\n",
        "    url_list.extend(soup.find_all(\"a\", href=True, text=\"youtube.com\"))\n",
        "  return url_list"
      ],
      "metadata": {
        "id": "5eHINh_-eLqM"
      },
      "execution_count": null,
      "outputs": []
    },
    {
      "cell_type": "code",
      "source": [
        "def channels_filter(url_list):\n",
        "  channels = []\n",
        "  for result in url_list:\n",
        "    if \"/c/\" in result[\"href\"]:\n",
        "      channels.append(result[\"href\"])\n",
        "    elif \"/channel/\" in result[\"href\"]:\n",
        "      channels.append(result[\"href\"])\n",
        "  return channels"
      ],
      "metadata": {
        "id": "l_LEQI-pewpG"
      },
      "execution_count": null,
      "outputs": []
    },
    {
      "cell_type": "code",
      "source": [
        "def json_file(channels):\n",
        "  with open(\"youtube_channels .json\", \"w\") as f:\n",
        "    json.dump(channels, f)"
      ],
      "metadata": {
        "id": "KvwQAqHMewm9"
      },
      "execution_count": null,
      "outputs": []
    },
    {
      "cell_type": "code",
      "source": [
        "url_list = scrape_google_results(query)\n",
        "channels = channels_filter(url_list)\n",
        "json_file(channels)"
      ],
      "metadata": {
        "id": "8kDtS24kewka"
      },
      "execution_count": null,
      "outputs": []
    }
  ]
}